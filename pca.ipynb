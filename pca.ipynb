{
 "cells": [
  {
   "cell_type": "code",
   "execution_count": 2,
   "metadata": {},
   "outputs": [],
   "source": [
    "import os\n",
    "import numpy as np\n",
    "from sklearn.decomposition import PCA\n",
    "from sklearn.ensemble import RandomForestClassifier\n",
    "from skimage.io import imread\n",
    "from skimage.transform import resize"
   ]
  },
  {
   "cell_type": "code",
   "execution_count": 3,
   "metadata": {},
   "outputs": [],
   "source": [
    "\n",
    "# 定义函数来加载和预处理图像\n",
    "def load_images(folder):\n",
    "    images = []\n",
    "    for filename in os.listdir(folder):\n",
    "        img = imread(os.path.join(folder, filename), as_gray=True)\n",
    "        img_resized = resize(img, (64, 64))  # 调整图像大小为64x64\n",
    "        images.append(img_resized.flatten())  # 将图像展平并添加到列表中\n",
    "    return np.array(images)\n",
    "\n",
    "# 加载真实图像和生成的图像\n",
    "cats_folder = \"/Users/fengqiuyi/Desktop/GAN/cats-faces-64x64-for-generative-models/resized\"\n",
    "fake_folder = \"/Users/fengqiuyi/Desktop/GAN/cats-faces-64x64-for-generative-models/fake\"\n",
    "real_images = load_images(cats_folder)\n",
    "generated_images = load_images(fake_folder)\n"
   ]
  },
  {
   "cell_type": "code",
   "execution_count": 4,
   "metadata": {},
   "outputs": [],
   "source": [
    "\n",
    "# 创建PCA对象并拟合真实图像\n",
    "pca = PCA(n_components=50)  # 设置PCA的主成分数量\n",
    "pca.fit(real_images)\n",
    "\n",
    "# 使用PCA转换真实和生成的图像\n",
    "real_images_pca = pca.transform(real_images)\n",
    "generated_images_pca = pca.transform(generated_images)\n"
   ]
  },
  {
   "cell_type": "code",
   "execution_count": 7,
   "metadata": {},
   "outputs": [],
   "source": [
    "from sklearn.model_selection import train_test_split"
   ]
  },
  {
   "cell_type": "code",
   "execution_count": 8,
   "metadata": {},
   "outputs": [
    {
     "name": "stdout",
     "output_type": "stream",
     "text": [
      "Accuracy: 0.9044660194174757\n"
     ]
    }
   ],
   "source": [
    "\n",
    "# 划分数据集为训练集和测试集\n",
    "X_real_train, X_real_test, y_real_train, y_real_test = train_test_split(real_images_pca, np.ones(len(real_images)), test_size=0.2, random_state=42)\n",
    "X_generated_train, X_generated_test, y_generated_train, y_generated_test = train_test_split(generated_images_pca, np.zeros(len(generated_images)), test_size=0.2, random_state=42)\n",
    "\n",
    "# 合并训练集和测试集\n",
    "X_train = np.vstack((X_real_train, X_generated_train))\n",
    "y_train = np.hstack((y_real_train, y_generated_train))\n",
    "X_test = np.vstack((X_real_test, X_generated_test))\n",
    "y_test = np.hstack((y_real_test, y_generated_test))\n",
    "\n",
    "# 创建随机森林分类器并拟合数据\n",
    "rf_classifier = RandomForestClassifier(n_estimators=100, random_state=42)\n",
    "rf_classifier.fit(X_train, y_train)\n",
    "\n",
    "# 使用测试集进行预测\n",
    "predictions = rf_classifier.predict(X_test)\n",
    "\n",
    "# 计算准确率等性能指标\n",
    "accuracy = np.mean(predictions == y_test)\n",
    "print(\"Accuracy:\", accuracy)"
   ]
  },
  {
   "cell_type": "code",
   "execution_count": 10,
   "metadata": {},
   "outputs": [
    {
     "name": "stdout",
     "output_type": "stream",
     "text": [
      "Precision: 0.8904230317273796\n",
      "F1 Score: 0.9249313396399146\n",
      "AUC-ROC: 0.887861111111111\n",
      "Log Loss: 0.31906148246583554\n"
     ]
    }
   ],
   "source": [
    "from sklearn.metrics import precision_score, f1_score, roc_auc_score, log_loss\n",
    "\n",
    "# 计算精确度\n",
    "precision = precision_score(y_test, predictions)\n",
    "\n",
    "# 计算F1分数\n",
    "f1 = f1_score(y_test, predictions)\n",
    "\n",
    "# 计算AUC-ROC\n",
    "auc_roc = roc_auc_score(y_test, predictions)\n",
    "\n",
    "# 计算对数损失\n",
    "# 请确保你的分类器支持predict_proba方法\n",
    "if hasattr(rf_classifier, \"predict_proba\"):\n",
    "    probabilities = rf_classifier.predict_proba(X_test)\n",
    "    logloss = log_loss(y_test, probabilities)\n",
    "else:\n",
    "    logloss = None\n",
    "\n",
    "print(\"Precision:\", precision)\n",
    "print(\"F1 Score:\", f1)\n",
    "print(\"AUC-ROC:\", auc_roc)\n",
    "print(\"Log Loss:\", logloss)\n"
   ]
  },
  {
   "cell_type": "code",
   "execution_count": 12,
   "metadata": {},
   "outputs": [],
   "source": [
    "    \n",
    "def show_pic(p):\n",
    "# 使用PCA的逆变换将特征向量转换为原始图像\n",
    "    real_images_pca_restored = pca.inverse_transform(p)\n",
    "\n",
    "    # 将展平的图像重新转换为原始图像的形状\n",
    "    real_images_restored = real_images_pca_restored.reshape((-1, 64, 64))\n",
    "\n",
    "    # 显示一张转换后的图像（这里假设使用matplotlib进行显示）\n",
    "    import matplotlib.pyplot as plt\n",
    "\n",
    "    plt.imshow(real_images_restored[0], cmap='gray')\n",
    "    plt.axis('off')\n",
    "    plt.show()\n"
   ]
  },
  {
   "cell_type": "code",
   "execution_count": 14,
   "metadata": {},
   "outputs": [
    {
     "data": {
      "image/png": "[encoded data removed]",
      "text/plain": [
       "<Figure size 640x480 with 1 Axes>"
      ]
     },
     "metadata": {},
     "output_type": "display_data"
    }
   ],
   "source": [
    "show_pic(real_images_pca[0])"
   ]
  }
 ],
 "metadata": {
  "kernelspec": {
   "display_name": "deeplearning",
   "language": "python",
   "name": "python3"
  },
  "language_info": {
   "codemirror_mode": {
    "name": "ipython",
    "version": 3
   },
   "file_extension": ".py",
   "mimetype": "text/x-python",
   "name": "python",
   "nbconvert_exporter": "python",
   "pygments_lexer": "ipython3",
   "version": "3.10.13"
  }
 },
 "nbformat": 4,
 "nbformat_minor": 2
}
